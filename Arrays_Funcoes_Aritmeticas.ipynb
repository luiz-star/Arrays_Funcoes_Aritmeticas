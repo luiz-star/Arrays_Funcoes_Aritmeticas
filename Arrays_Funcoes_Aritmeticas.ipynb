{
  "nbformat": 4,
  "nbformat_minor": 0,
  "metadata": {
    "colab": {
      "name": "Arrays_Funcoes_Aritmeticas.ipynb",
      "provenance": [],
      "authorship_tag": "ABX9TyPG36PS0eDl884yMK5FeaSy",
      "include_colab_link": true
    },
    "kernelspec": {
      "name": "python3",
      "display_name": "Python 3"
    },
    "language_info": {
      "name": "python"
    }
  },
  "cells": [
    {
      "cell_type": "markdown",
      "metadata": {
        "id": "view-in-github",
        "colab_type": "text"
      },
      "source": [
        "<a href=\"https://colab.research.google.com/github/luiz-star/Arrays_Funcoes_Aritmeticas/blob/main/Arrays_Funcoes_Aritmeticas.ipynb\" target=\"_parent\"><img src=\"https://colab.research.google.com/assets/colab-badge.svg\" alt=\"Open In Colab\"/></a>"
      ]
    },
    {
      "cell_type": "markdown",
      "metadata": {
        "id": "T--pdPamrLOc"
      },
      "source": [
        "# Funções aritméticas: soma, subtração e divisão"
      ]
    },
    {
      "cell_type": "code",
      "metadata": {
        "id": "o8vrzJK3sXK1"
      },
      "source": [
        "# importando a biblioteca\n",
        "import numpy as np"
      ],
      "execution_count": 3,
      "outputs": []
    },
    {
      "cell_type": "code",
      "metadata": {
        "colab": {
          "base_uri": "https://localhost:8080/"
        },
        "id": "UOyXNUQ1q1qX",
        "outputId": "3f093987-1df0-4bcf-d203-6cc055844969"
      },
      "source": [
        "#criação de dois arrays x e y\n",
        "x = np.ones((2, 2))\n",
        "y = np.eye(2)\n",
        "print('x: \\n', x)\n",
        "print('y: \\n', y)"
      ],
      "execution_count": 5,
      "outputs": [
        {
          "output_type": "stream",
          "text": [
            "x: \n",
            " [[1. 1.]\n",
            " [1. 1.]]\n",
            "y: \n",
            " [[1. 0.]\n",
            " [0. 1.]]\n"
          ],
          "name": "stdout"
        }
      ]
    },
    {
      "cell_type": "code",
      "metadata": {
        "colab": {
          "base_uri": "https://localhost:8080/"
        },
        "id": "Zv0zYD26tIIp",
        "outputId": "31a71803-510c-4b61-fe5f-aa845e1e1e49"
      },
      "source": [
        "# soma\n",
        "print('soma de dois arrays:\\n', x + y)\n",
        "print('soma com float/int:\\n', x + 2)  # broadcasting (transmissão)"
      ],
      "execution_count": 6,
      "outputs": [
        {
          "output_type": "stream",
          "text": [
            "soma de dois arrays:\n",
            " [[2. 1.]\n",
            " [1. 2.]]\n",
            "soma com float/int:\n",
            " [[3. 3.]\n",
            " [3. 3.]]\n"
          ],
          "name": "stdout"
        }
      ]
    },
    {
      "cell_type": "code",
      "metadata": {
        "colab": {
          "base_uri": "https://localhost:8080/"
        },
        "id": "oaX3KVMctIRH",
        "outputId": "f4b386b9-8922-4028-e09a-eb5ddd9372e9"
      },
      "source": [
        "# subtração\n",
        "print('subtração de dois arrays:\\n', x - y)\n",
        "print('subtração com float/int:\\n', x - 2) #broadcasting"
      ],
      "execution_count": 9,
      "outputs": [
        {
          "output_type": "stream",
          "text": [
            "subtração de dois arrays:\n",
            " [[0. 1.]\n",
            " [1. 0.]]\n",
            "subtração com float/int:\n",
            " [[-1. -1.]\n",
            " [-1. -1.]]\n"
          ],
          "name": "stdout"
        }
      ]
    },
    {
      "cell_type": "code",
      "metadata": {
        "colab": {
          "base_uri": "https://localhost:8080/"
        },
        "id": "Tm4bcxrdtIVb",
        "outputId": "adef906e-d705-4065-f0d8-9296c4ae870c"
      },
      "source": [
        "# divisão\n",
        "print('divisão de dois arrays:\\n', x / y)\n",
        "print('divisão com float/int:\\n', x / 2)# broadcasting"
      ],
      "execution_count": 8,
      "outputs": [
        {
          "output_type": "stream",
          "text": [
            "divisão de dois arrays:\n",
            " [[ 1. inf]\n",
            " [inf  1.]]\n",
            "divisão com float/int:\n",
            " [[0.5 0.5]\n",
            " [0.5 0.5]]\n"
          ],
          "name": "stdout"
        },
        {
          "output_type": "stream",
          "text": [
            "/usr/local/lib/python3.7/dist-packages/ipykernel_launcher.py:2: RuntimeWarning: divide by zero encountered in true_divide\n",
            "  \n"
          ],
          "name": "stderr"
        }
      ]
    },
    {
      "cell_type": "code",
      "metadata": {
        "id": "oyPJ8CdJtIYj"
      },
      "source": [
        "# Quando o brodcasting não funciona\n",
        "# np.array([1, 2, 3]) + np.array([1, 2])"
      ],
      "execution_count": null,
      "outputs": []
    },
    {
      "cell_type": "code",
      "metadata": {
        "colab": {
          "base_uri": "https://localhost:8080/"
        },
        "id": "isZ5EGkQtIar",
        "outputId": "7cc3b1c4-03ee-4204-b5e3-e7e4c59237ae"
      },
      "source": [
        "# soma, subtração e divisão\n",
        "print('combinação de operações: \\n', (x+y)/(x-2))"
      ],
      "execution_count": 10,
      "outputs": [
        {
          "output_type": "stream",
          "text": [
            "combinação de operações: \n",
            " [[-2. -1.]\n",
            " [-1. -2.]]\n"
          ],
          "name": "stdout"
        }
      ]
    },
    {
      "cell_type": "markdown",
      "metadata": {
        "id": "IXdDlLfjzS1T"
      },
      "source": [
        "# Multiplicação"
      ]
    },
    {
      "cell_type": "code",
      "metadata": {
        "colab": {
          "base_uri": "https://localhost:8080/"
        },
        "id": "fLFY1Pb2zRoo",
        "outputId": "68b0901c-f7f8-40c7-e105-2ad129ab0ce3"
      },
      "source": [
        "# multiplicação elemento a elemento\n",
        "print('x: \\n', x)\n",
        "print('y: \\n', y)"
      ],
      "execution_count": 11,
      "outputs": [
        {
          "output_type": "stream",
          "text": [
            "x: \n",
            " [[1. 1.]\n",
            " [1. 1.]]\n",
            "y: \n",
            " [[1. 0.]\n",
            " [0. 1.]]\n"
          ],
          "name": "stdout"
        }
      ]
    },
    {
      "cell_type": "code",
      "metadata": {
        "colab": {
          "base_uri": "https://localhost:8080/"
        },
        "id": "DYkkuddTzRsC",
        "outputId": "7200404b-925d-4a53-abd0-62d058ff55b8"
      },
      "source": [
        "# Multiplicação\n",
        "print('multiplicação matricial (np.dot) :\\n', x * y)\n",
        "print('multiplicação com float/int:\\n', x * 2)# broadcasting"
      ],
      "execution_count": 12,
      "outputs": [
        {
          "output_type": "stream",
          "text": [
            "multiplicação matricial (np.dot) :\n",
            " [[1. 0.]\n",
            " [0. 1.]]\n",
            "multiplicação com float/int:\n",
            " [[2. 2.]\n",
            " [2. 2.]]\n"
          ],
          "name": "stdout"
        }
      ]
    },
    {
      "cell_type": "code",
      "metadata": {
        "colab": {
          "base_uri": "https://localhost:8080/"
        },
        "id": "tICUtxfAtIdO",
        "outputId": "3fd55c7b-8ebd-414b-902a-54e039cc25e2"
      },
      "source": [
        "# Multiplicação Matricial\n",
        "print('multiplicação matricial (np.dot):\\n', np.dot(x, y))\n",
        "print('multiplicação matricial (@):\\n', x @ y)\n",
        "print('multiplicação matricial (.dot):\\n', x.dot(y))"
      ],
      "execution_count": 14,
      "outputs": [
        {
          "output_type": "stream",
          "text": [
            "multiplicação matricial (np.dot):\n",
            " [[1. 1.]\n",
            " [1. 1.]]\n",
            "multiplicação matricial (@):\n",
            " [[1. 1.]\n",
            " [1. 1.]]\n",
            "multiplicação matricial (.dot):\n",
            " [[1. 1.]\n",
            " [1. 1.]]\n"
          ],
          "name": "stdout"
        }
      ]
    },
    {
      "cell_type": "code",
      "metadata": {
        "colab": {
          "base_uri": "https://localhost:8080/"
        },
        "id": "NKjddUvo0gAj",
        "outputId": "c2c19a39-9adc-487f-fafa-dff0a685c711"
      },
      "source": [
        "\"\"\"\n",
        "Exemplo:\n",
        "Solução de um sistema de equações:\n",
        "  a + 2*b =7\n",
        "  3*a -2*b = -11\n",
        "  solução análitica: (a, b) = (-1, 4)\n",
        "Matricialmente, este problema tem a seguinte forma:\n",
        "  Ax = c, onde:\n",
        "  - x = [a, b]\n",
        "  - A = [[1, 2], [-3, -2]]\n",
        "  - c = [7, -11]\n",
        "  solução numérica: x = inv(A) @ c,\n",
        "\"\"\"\n",
        "\n",
        "# Definição do problema\n",
        "A = np.array([[1, 2], [3, -2]])\n",
        "c = np.array([[7], [-11]])\n",
        "print('A: \\n', A)\n",
        "print('c: \\n', c)"
      ],
      "execution_count": 16,
      "outputs": [
        {
          "output_type": "stream",
          "text": [
            "A: \n",
            " [[ 1  2]\n",
            " [ 3 -2]]\n",
            "c: \n",
            " [[  7]\n",
            " [-11]]\n"
          ],
          "name": "stdout"
        }
      ]
    },
    {
      "cell_type": "markdown",
      "metadata": {
        "id": "Rmq0Qc7i6dIB"
      },
      "source": [
        "# Comparações (São operações elemento a elemento)"
      ]
    },
    {
      "cell_type": "code",
      "metadata": {
        "colab": {
          "base_uri": "https://localhost:8080/"
        },
        "id": "wCk1K2BG0gD3",
        "outputId": "7f137868-28fc-4123-a024-c80944fa9ab1"
      },
      "source": [
        "# solução\n",
        "x = np.dot(np.linalg.inv(A), c)# A inversa da matriz\n",
        "#x = np.linalg.inv(A) @ c\n",
        "print('(a, b):', x.ravel())           "
      ],
      "execution_count": 19,
      "outputs": [
        {
          "output_type": "stream",
          "text": [
            "(a, b): [-1.  4.]\n"
          ],
          "name": "stdout"
        }
      ]
    },
    {
      "cell_type": "code",
      "metadata": {
        "colab": {
          "base_uri": "https://localhost:8080/"
        },
        "id": "OqlWVuFC0gGu",
        "outputId": "a15a1397-cb26-4c34-ce89-b74953fe7234"
      },
      "source": [
        "# Criação dos arrays\n",
        "x = np.array([[1, 2], [3, 4]])\n",
        "y = np.array([1.5, 3.5])\n",
        "print('x: \\n', x)\n",
        "print('y:\\n', y)"
      ],
      "execution_count": 20,
      "outputs": [
        {
          "output_type": "stream",
          "text": [
            "x: \n",
            " [[1 2]\n",
            " [3 4]]\n",
            "y:\n",
            " [1.5 3.5]\n"
          ],
          "name": "stdout"
        }
      ]
    },
    {
      "cell_type": "markdown",
      "metadata": {
        "id": "Rf36xym6BWip"
      },
      "source": [
        "Indexação Booleana : Filtro"
      ]
    },
    {
      "cell_type": "code",
      "metadata": {
        "colab": {
          "base_uri": "https://localhost:8080/"
        },
        "id": "jUhuNK9__wy6",
        "outputId": "3c8013f6-bd2a-4bcc-a87a-267a2b2ca90b"
      },
      "source": [
        "# comparações ponto a ponto\n",
        "\n",
        "print('Comparação de um array com um escalar (>): \\n', x > 2)\n",
        "print('Comparação de um array com um escalar (>=): \\n', x >=2)\n",
        "print('Comparação de um array com um escalar (<): \\n', x < 2)\n",
        "print('Comparação de um array com um escalar (<=): \\n', x <=2)\n",
        "print('Comparação entre arrays (==): \\n', x == x)\n",
        "print('Comparação entre arrays (>): \\n', x > x)\n",
        "print('Comparação entre arrays (>): \\n', x > y)# broadcasting"
      ],
      "execution_count": 21,
      "outputs": [
        {
          "output_type": "stream",
          "text": [
            "Comparação de um array com um escalar (>): \n",
            " [[False False]\n",
            " [ True  True]]\n",
            "Comparação de um array com um escalar (>=): \n",
            " [[False  True]\n",
            " [ True  True]]\n",
            "Comparação de um array com um escalar (<): \n",
            " [[ True False]\n",
            " [False False]]\n",
            "Comparação de um array com um escalar (<=): \n",
            " [[ True  True]\n",
            " [False False]]\n",
            "Comparação entre arrays (==): \n",
            " [[ True  True]\n",
            " [ True  True]]\n",
            "Comparação entre arrays (>): \n",
            " [[False False]\n",
            " [False False]]\n",
            "Comparação entre arrays (>): \n",
            " [[False False]\n",
            " [ True  True]]\n"
          ],
          "name": "stdout"
        }
      ]
    },
    {
      "cell_type": "code",
      "metadata": {
        "colab": {
          "base_uri": "https://localhost:8080/"
        },
        "id": "dCfq9zOQ_xA0",
        "outputId": "2c975546-2df9-43a8-fd92-211c990d5769"
      },
      "source": [
        "# indexação booleana\n",
        "x = np.array([[1, 3, 7],\n",
        "             [4, 11, 21],\n",
        "             [42, 8, 9]])\n",
        "print('x:\\n', x)"
      ],
      "execution_count": 25,
      "outputs": [
        {
          "output_type": "stream",
          "text": [
            "x:\n",
            " [[ 1  3  7]\n",
            " [ 4 11 21]\n",
            " [42  8  9]]\n"
          ],
          "name": "stdout"
        }
      ]
    },
    {
      "cell_type": "code",
      "metadata": {
        "colab": {
          "base_uri": "https://localhost:8080/"
        },
        "id": "s4Lun1xs_xJb",
        "outputId": "f97b290f-9d33-4333-906f-8c9843f3bb3a"
      },
      "source": [
        "# indexação booleana: retornar o número de elementos\n",
        "#Maiores que K\n",
        "k = 10\n",
        "cond = x > k\n",
        "print('condição: \\n', cond)\n",
        "print(f'elementos maiores que {k}:', x[cond])\n",
        "print(f'número de elementos maiores que {k}:', len(x[cond]))"
      ],
      "execution_count": 26,
      "outputs": [
        {
          "output_type": "stream",
          "text": [
            "condição: \n",
            " [[False False False]\n",
            " [False  True  True]\n",
            " [ True False False]]\n",
            "elementos maiores que 10: [11 21 42]\n",
            "número de elementos maiores que 10: 3\n"
          ],
          "name": "stdout"
        }
      ]
    },
    {
      "cell_type": "code",
      "metadata": {
        "colab": {
          "base_uri": "https://localhost:8080/"
        },
        "id": "OdRVMjncG7cT",
        "outputId": "22f6db8c-7803-4e80-c389-73eb417ce1c6"
      },
      "source": [
        "# Indexação booleana: extração ds números pares\n",
        "cond = x % 2 == 0  #números pares\n",
        "print('condição: \\n', cond)\n",
        "print('números pares:', x[cond])"
      ],
      "execution_count": 27,
      "outputs": [
        {
          "output_type": "stream",
          "text": [
            "condição: \n",
            " [[False False False]\n",
            " [ True False False]\n",
            " [ True  True False]]\n",
            "números pares: [ 4 42  8]\n"
          ],
          "name": "stdout"
        }
      ]
    },
    {
      "cell_type": "code",
      "metadata": {
        "colab": {
          "base_uri": "https://localhost:8080/"
        },
        "id": "oY3v82KhIUoZ",
        "outputId": "6d70166a-5582-4354-8be3-46177257d4fb"
      },
      "source": [
        "# Indexação booleana: Extração dos números impares\n",
        "cond = x % 2 == 1 # números pares\n",
        "print('condição: \\n', cond)\n",
        "print('números pares:', x[cond])"
      ],
      "execution_count": 28,
      "outputs": [
        {
          "output_type": "stream",
          "text": [
            "condição: \n",
            " [[ True  True  True]\n",
            " [False  True  True]\n",
            " [False False  True]]\n",
            "números pares: [ 1  3  7 11 21  9]\n"
          ],
          "name": "stdout"
        }
      ]
    }
  ]
}